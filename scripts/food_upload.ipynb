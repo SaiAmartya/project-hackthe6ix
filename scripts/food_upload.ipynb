{
 "cells": [
  {
   "cell_type": "code",
   "execution_count": 43,
   "id": "005a828f",
   "metadata": {},
   "outputs": [],
   "source": [
    "import requests\n",
    "import numpy as np\n",
    "import pandas as pd\n",
    "from io import StringIO\n",
    "from datetime import datetime\n",
    "import pymongo\n",
    "from pymongo import MongoClient\n",
    "from dotenv import load_dotenv\n",
    "import os"
   ]
  },
  {
   "cell_type": "code",
   "execution_count": 44,
   "id": "789581da",
   "metadata": {},
   "outputs": [
    {
     "data": {
      "text/plain": [
       "True"
      ]
     },
     "execution_count": 44,
     "metadata": {},
     "output_type": "execute_result"
    }
   ],
   "source": [
    "load_dotenv()"
   ]
  },
  {
   "cell_type": "code",
   "execution_count": 118,
   "id": "420864c6",
   "metadata": {},
   "outputs": [],
   "source": [
    "df = pd.read_json(\"Info.ManualFoodInfo.json\")"
   ]
  },
  {
   "cell_type": "code",
   "execution_count": 120,
   "id": "7799cba3",
   "metadata": {},
   "outputs": [
    {
     "name": "stdout",
     "output_type": "stream",
     "text": [
      "<class 'pandas.core.frame.DataFrame'>\n",
      "RangeIndex: 25 entries, 0 to 24\n",
      "Data columns (total 5 columns):\n",
      " #   Column       Non-Null Count  Dtype \n",
      "---  ------       --------------  ----- \n",
      " 0   name         25 non-null     object\n",
      " 1   address      25 non-null     object\n",
      " 2   city         25 non-null     object\n",
      " 3   postal_code  25 non-null     object\n",
      " 4   hours        24 non-null     object\n",
      "dtypes: object(5)\n",
      "memory usage: 1.1+ KB\n"
     ]
    }
   ],
   "source": [
    "df.info()"
   ]
  },
  {
   "cell_type": "code",
   "execution_count": 119,
   "id": "78132616",
   "metadata": {},
   "outputs": [],
   "source": [
    "df.drop([\"Province\", \"province\", \"days\", \"notes\", \"Phone Number\", \"phone_number\", \"_id\", \"provience\"], axis=1, inplace=True)"
   ]
  },
  {
   "cell_type": "code",
   "execution_count": 107,
   "id": "826e9c42",
   "metadata": {},
   "outputs": [],
   "source": [
    "df.replace('', np.nan, inplace=True)\n",
    "df.dropna(inplace=True)"
   ]
  },
  {
   "cell_type": "code",
   "execution_count": 121,
   "id": "b9fded70",
   "metadata": {},
   "outputs": [],
   "source": [
    "try:\n",
    "    uri = os.getenv(\"MONGO_CONNECTION_STRING\")\n",
    "    client = MongoClient(uri)\n",
    "    database = client[\"Info\"]\n",
    "    collection = database[\"LocationCache\"]\n",
    "    results = list(collection.find({}, {\"_id\": 0}))\n",
    "    client.close()\n",
    "except Exception as e:\n",
    "    raise Exception(\n",
    "        \"The following error occurred: \", e)"
   ]
  },
  {
   "cell_type": "code",
   "execution_count": 122,
   "id": "c8bfecbc",
   "metadata": {},
   "outputs": [
    {
     "name": "stdout",
     "output_type": "stream",
     "text": [
      "........................"
     ]
    }
   ],
   "source": [
    "base_geocode_url = \"https://geocode.googleapis.com/v4beta/geocode/address/\"\n",
    "GEOCODE_MAPS_API_KEY = os.getenv(\"GEOCODE_MAPS_API_KEY\")\n",
    "try:\n",
    "    uri = os.getenv(\"MONGO_CONNECTION_STRING\")\n",
    "    client = MongoClient(uri)\n",
    "    database = client[\"Info\"]\n",
    "    collection = database[\"LocationCache\"]\n",
    "    for index, row in df.iterrows():\n",
    "        base_address = row[\"address\"]\n",
    "        if base_address in [list(e.keys())[0] for e in results]:\n",
    "            print(\".\", end=\"\")\n",
    "        else:\n",
    "            address = str(base_address).replace(\" \", \"+\")\n",
    "            url = base_geocode_url + address + \"?key=\" + GEOCODE_MAPS_API_KEY\n",
    "            data = requests.get(url = url).json()\n",
    "            if (data):\n",
    "                obj = {base_address: {\n",
    "                    \"name\": row[\"name\"],\n",
    "                    \"postal_code\": row[\"postal_code\"],\n",
    "                    \"city\": row[\"city\"],\n",
    "                    \"type\": \"food\",\n",
    "                    \"lat\": data[\"results\"][0][\"location\"][\"latitude\"],\n",
    "                    \"long\": data[\"results\"][0][\"location\"][\"longitude\"]\n",
    "                }}\n",
    "                print(obj)\n",
    "                results.append(obj)\n",
    "                collection.insert_one(obj)\n",
    "    client.close()\n",
    "except Exception as e:\n",
    "    raise Exception(\n",
    "        \"The following error occurred: \", e)"
   ]
  },
  {
   "cell_type": "code",
   "execution_count": 123,
   "id": "7c4c9e9b",
   "metadata": {},
   "outputs": [],
   "source": [
    "locations = {}\n",
    "for e in results:\n",
    "    e_add = list(e.keys())[0]\n",
    "    locations[e_add] = e[e_add]"
   ]
  },
  {
   "cell_type": "code",
   "execution_count": 124,
   "id": "69912e37",
   "metadata": {},
   "outputs": [
    {
     "name": "stdout",
     "output_type": "stream",
     "text": [
      "{'address': '353 Sherbourne St', 'name': 'Allan Gardens Food Bank', 'postal_code': 'M5A 2S3', 'city': 'Toronto', 'hours': '12:30PM-3:00PM', 'lat': 43.663015099999996, 'long': -79.372528}\n",
      "{'address': '1041 Pape Ave', 'name': 'Bethany Church Food Bank', 'postal_code': ' M4K 3W1', 'city': 'Toronto', 'hours': '1:15PM-3:00PM', 'lat': 43.689235499999995, 'long': -79.3484398}\n",
      "{'address': '2305 Bloor St W', 'name': 'Bloor West Food Bank', 'postal_code': 'M6R 1L5', 'city': 'Toronto', 'hours': nan, 'lat': 43.6501668, 'long': -79.4793092}\n",
      "{'address': '194 Park Lawn Rd', 'name': 'Christ Church St James Anglican Church Food Pantry', 'postal_code': 'M8Y 3J1', 'city': 'Toronto', 'hours': '1:00PM-5:30PM', 'lat': 43.6298798, 'long': -79.49115239999999}\n",
      "{'address': '850 and 854 Bloor St W', 'name': 'Christie Ossington Neighbourhood Centre - Bloor Street Drop-in', 'postal_code': 'M6G 1M2', 'city': 'Toronto', 'hours': '10:00AM-4:00PM', 'lat': 43.662407699999996, 'long': -79.4242318}\n",
      "{'address': '850 and 854 Bloor St W', 'name': 'Christie Ossington Neighbourhood Centre - Bloor Street Food Access Program', 'postal_code': 'M6G 1M2', 'city': 'Toronto', 'hours': '12:00PM-1:00PM', 'lat': 43.662407699999996, 'long': -79.4242318}\n",
      "{'address': '230 St Clair Ave W', 'name': 'Churches on the Hill Food Bank - Timothy Eaton Memorial Church', 'postal_code': 'M4V 1R5', 'city': 'Toronto', 'hours': 'Mon 6:00PM-8:00PM, Wed 10:30AM-12:30AM', 'lat': 43.6863532, 'long': -79.405654}\n",
      "{'address': '4020 Dundas St W Unit 5', 'name': \"College-Montrose Children's Place - Cooper Mills-Gooch Community Food Bank\", 'postal_code': 'M6S 2T7', 'city': 'Toronto', 'hours': '2:00PM-6:00PM', 'lat': 43.6490967, 'long': -79.4205496}\n",
      "{'address': '33 Overland Dr', 'name': 'Community Share Food Bank - Church of the Ascension', 'postal_code': 'M3C 2C3', 'city': 'Toronto', 'hours': '11:00AM-3:00PM', 'lat': 43.7320838, 'long': -79.34746609999999}\n",
      "{'address': '20 Gerrard St E', 'name': 'Covenant House Toronto', 'postal_code': 'M5B 2P3', 'city': 'Toronto', 'hours': '11:30AM-7:00PM', 'lat': 43.6580739, 'long': -79.3814908}\n",
      "{'address': '191 New Toronto St', 'name': 'Daily Bread Food Bank', 'postal_code': 'M8V 2E7', 'city': 'Toronto', 'hours': '8:30AM-4:30AM', 'lat': 43.6068558, 'long': -79.5042064}\n",
      "{'address': '191 New Toronto St', 'name': 'Daily Bread Food Bank - New Toronto Street Food Bank', 'postal_code': 'M8V 2E7', 'city': 'Toronto', 'hours': '10:00AM-6:00PM', 'lat': 43.6068558, 'long': -79.5042064}\n",
      "{'address': '1470 Gerrard St E Bsmt', 'name': 'East End United Regional Ministry - Nourish East End', 'postal_code': 'M4L 2A3', 'city': 'Toronto', 'hours': '9:00AM-4:00PM', 'lat': 43.672798, 'long': -79.3207716}\n",
      "{'address': '86 Blake St', 'name': 'Eastview Neighbourhood Community Centre', 'postal_code': 'M4J 3C9', 'city': 'Toronto', 'hours': 'Mon-Fri 9:00AM-9:00PM, Saturday 9:00am-4:00pm, Sunday 10:00AM-4:00PM', 'lat': 44.3934591, 'long': -79.6723975}\n",
      "{'address': 'Commercial Plaza 4020 Dundas St W Unit 5', 'name': 'Eastview Neighbourhood Community Centre - Food Bank', 'postal_code': 'M4J 3C9', 'city': 'Toronto', 'hours': '12:00PM-2:00PM', 'lat': 43.6490967, 'long': -79.4205496}\n",
      "{'address': '251 Roywood Dr Community Room', 'name': 'Emmanuel Life Management Center - Roywood Food Bank', 'postal_code': 'M3A 2E9', 'city': 'Toronto', 'hours': '12:30PM-3:00PM', 'lat': 43.7622134, 'long': -79.3356747}\n",
      "{'address': '2770 Dundas St W', 'name': 'Feed It Forward', 'postal_code': 'M5B2P3', 'city': 'Toronto', 'hours': 'Mon-Friday 11:00AM-7:00PM, Saturday 11:00AM-6:00PM, Sunday 11:00AM-4:00PM', 'lat': 43.665444699999995, 'long': -79.4613995}\n",
      "{'address': '3330 Danforth Ave', 'name': 'Feed Scarborough - Oakridge Food Bank', 'postal_code': 'M1L 3P3', 'city': 'Toronto', 'hours': '12:30PM-3:00PM', 'lat': 43.6937472, 'long': -79.27855029999999}\n",
      "{'address': '155 Markham Rd', 'name': 'Feed Scarborough - Markham Road Food Bank', 'postal_code': 'M1L 3P3', 'city': 'Toronto', 'hours': '8:30AM-11:00AM', 'lat': 43.7416795, 'long': -79.2178428}\n",
      "{'address': '772 Warden Ave', 'name': 'Feed Scarborough - Clairlea Food Bank', 'postal_code': 'M1L 3P3', 'city': 'Toronto', 'hours': '12:00PM-6:30PM', 'lat': 43.723565799999996, 'long': -79.2862618}\n",
      "{'address': '490 Sherbourne St, 2nd Fl', 'name': 'Fife House - Community Programs', 'postal_code': 'M4X 1K9', 'city': 'Toronto', 'hours': '9:00AM-5:00PM', 'lat': 43.6676497, 'long': -79.37508299999999}\n",
      "{'address': '10 Gateway Blvd', 'name': 'Flemingdon Health Centre - Food Security', 'postal_code': 'M3C 3A1', 'city': 'Toronto', 'hours': '', 'lat': 43.7098813, 'long': -79.3326187}\n",
      "{'address': '10 Gateway Blvd Bsmt, Unit 154', 'name': 'Flemingdon Park Community Food Bank', 'postal_code': 'M3C 3A1', 'city': 'Toronto', 'hours': '11:30AM-3:30PM', 'lat': 43.709821399999996, 'long': -79.3326132}\n",
      "{'address': '791 Queen St E', 'name': 'Fontbonne Ministries - Mustard Seed', 'postal_code': 'M4M 1H6', 'city': 'Toronto', 'hours': '9:00AM-2:00PM', 'lat': 43.6592311, 'long': -79.34646769999999}\n"
     ]
    }
   ],
   "source": [
    "try:\n",
    "    uri = os.getenv(\"MONGO_CONNECTION_STRING\")\n",
    "    client = MongoClient(uri)\n",
    "    database = client[\"Info\"]\n",
    "    collection = database[\"FoodInfo\"]\n",
    "    for index, row in df.iterrows():\n",
    "        base_address = row[\"address\"]\n",
    "        if (base_address in list(locations.keys())):\n",
    "            obj = {\n",
    "                \"address\": base_address,\n",
    "                \"name\": row[\"name\"],\n",
    "                \"postal_code\": row[\"postal_code\"],\n",
    "                \"city\": row[\"city\"],\n",
    "                \"hours\": row[\"hours\"],\n",
    "                \"lat\": locations[base_address][\"lat\"],\n",
    "                \"long\": locations[base_address][\"long\"]\n",
    "            }\n",
    "            print(obj)\n",
    "            collection.insert_one(obj)\n",
    "    client.close()\n",
    "        \n",
    "except Exception as e:\n",
    "    raise Exception(\n",
    "        \"The following error occurred: \", e)"
   ]
  }
 ],
 "metadata": {
  "kernelspec": {
   "display_name": "venv",
   "language": "python",
   "name": "python3"
  },
  "language_info": {
   "codemirror_mode": {
    "name": "ipython",
    "version": 3
   },
   "file_extension": ".py",
   "mimetype": "text/x-python",
   "name": "python",
   "nbconvert_exporter": "python",
   "pygments_lexer": "ipython3",
   "version": "3.13.0"
  }
 },
 "nbformat": 4,
 "nbformat_minor": 5
}
